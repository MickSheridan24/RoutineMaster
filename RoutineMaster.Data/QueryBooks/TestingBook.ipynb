{
    "metadata": {
        "kernelspec": {
            "name": "SQL",
            "display_name": "SQL",
            "language": "sql"
        },
        "language_info": {
            "name": "sql",
            "version": ""
        }
    },
    "nbformat_minor": 2,
    "nbformat": 4,
    "cells": [
        {
            "cell_type": "code",
            "source": [
                "Select * from \"Tags\";"
            ],
            "metadata": {
                "azdata_cell_guid": "8d77ad95-d1e0-4049-a44e-2fb6ad198798",
                "language": "sql"
            },
            "outputs": [
                {
                    "output_type": "display_data",
                    "data": {
                        "text/html": "(10 row(s) affected)"
                    },
                    "metadata": {}
                },
                {
                    "output_type": "display_data",
                    "data": {
                        "text/html": "Total execution time: 00:00:00.001"
                    },
                    "metadata": {}
                },
                {
                    "output_type": "execute_result",
                    "metadata": {},
                    "execution_count": 22,
                    "data": {
                        "application/vnd.dataresource+json": {
                            "schema": {
                                "fields": [
                                    {
                                        "name": "Id"
                                    },
                                    {
                                        "name": "Name"
                                    },
                                    {
                                        "name": "UserId"
                                    },
                                    {
                                        "name": "Created"
                                    }
                                ]
                            },
                            "data": [
                                {
                                    "0": "5",
                                    "1": "test",
                                    "2": "0",
                                    "3": "0001-01-01T00:00:00+00:00"
                                },
                                {
                                    "0": "6",
                                    "1": "test",
                                    "2": "0",
                                    "3": "0001-01-01T00:00:00+00:00"
                                },
                                {
                                    "0": "7",
                                    "1": "test",
                                    "2": "1",
                                    "3": "0001-01-01T00:00:00+00:00"
                                },
                                {
                                    "0": "8",
                                    "1": "test",
                                    "2": "1",
                                    "3": "0001-01-01T00:00:00+00:00"
                                },
                                {
                                    "0": "9",
                                    "1": "test",
                                    "2": "1",
                                    "3": "0001-01-01T00:00:00+00:00"
                                },
                                {
                                    "0": "10",
                                    "1": "test",
                                    "2": "1",
                                    "3": "0001-01-01T00:00:00+00:00"
                                },
                                {
                                    "0": "11",
                                    "1": "test",
                                    "2": "1",
                                    "3": "0001-01-01T00:00:00+00:00"
                                },
                                {
                                    "0": "12",
                                    "1": "test",
                                    "2": "1",
                                    "3": "0001-01-01T00:00:00+00:00"
                                },
                                {
                                    "0": "13",
                                    "1": "test",
                                    "2": "1",
                                    "3": "0001-01-01T00:00:00+00:00"
                                },
                                {
                                    "0": "14",
                                    "1": "test",
                                    "2": "1",
                                    "3": "0001-01-01T00:00:00+00:00"
                                }
                            ]
                        },
                        "text/html": [
                            "<table>",
                            "<tr><th>Id</th><th>Name</th><th>UserId</th><th>Created</th></tr>",
                            "<tr><td>5</td><td>test</td><td>0</td><td>0001-01-01T00:00:00+00:00</td></tr>",
                            "<tr><td>6</td><td>test</td><td>0</td><td>0001-01-01T00:00:00+00:00</td></tr>",
                            "<tr><td>7</td><td>test</td><td>1</td><td>0001-01-01T00:00:00+00:00</td></tr>",
                            "<tr><td>8</td><td>test</td><td>1</td><td>0001-01-01T00:00:00+00:00</td></tr>",
                            "<tr><td>9</td><td>test</td><td>1</td><td>0001-01-01T00:00:00+00:00</td></tr>",
                            "<tr><td>10</td><td>test</td><td>1</td><td>0001-01-01T00:00:00+00:00</td></tr>",
                            "<tr><td>11</td><td>test</td><td>1</td><td>0001-01-01T00:00:00+00:00</td></tr>",
                            "<tr><td>12</td><td>test</td><td>1</td><td>0001-01-01T00:00:00+00:00</td></tr>",
                            "<tr><td>13</td><td>test</td><td>1</td><td>0001-01-01T00:00:00+00:00</td></tr>",
                            "<tr><td>14</td><td>test</td><td>1</td><td>0001-01-01T00:00:00+00:00</td></tr>",
                            "</table>"
                        ]
                    }
                }
            ],
            "execution_count": 22
        },
        {
            "cell_type": "code",
            "source": [
                "select * from \"ExpenseTags\";"
            ],
            "metadata": {
                "azdata_cell_guid": "037f5838-f613-4190-96c1-044811de49f1",
                "language": "sql"
            },
            "outputs": [
                {
                    "output_type": "display_data",
                    "data": {
                        "text/html": "(1 row(s) affected)"
                    },
                    "metadata": {}
                },
                {
                    "output_type": "display_data",
                    "data": {
                        "text/html": "Total execution time: 00:00:00.001"
                    },
                    "metadata": {}
                },
                {
                    "output_type": "execute_result",
                    "metadata": {},
                    "execution_count": 23,
                    "data": {
                        "application/vnd.dataresource+json": {
                            "schema": {
                                "fields": [
                                    {
                                        "name": "ExpenseEntryId"
                                    },
                                    {
                                        "name": "TagId"
                                    }
                                ]
                            },
                            "data": [
                                {
                                    "0": "103",
                                    "1": "14"
                                }
                            ]
                        },
                        "text/html": [
                            "<table>",
                            "<tr><th>ExpenseEntryId</th><th>TagId</th></tr>",
                            "<tr><td>103</td><td>14</td></tr>",
                            "</table>"
                        ]
                    }
                }
            ],
            "execution_count": 23
        }
    ]
}