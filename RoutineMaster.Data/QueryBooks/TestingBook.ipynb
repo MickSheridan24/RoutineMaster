{
    "metadata": {
        "kernelspec": {
            "name": "SQL",
            "display_name": "SQL",
            "language": "sql"
        },
        "language_info": {
            "name": "sql",
            "version": ""
        }
    },
    "nbformat_minor": 2,
    "nbformat": 4,
    "cells": [
        {
            "cell_type": "code",
            "source": [
                "SELECT * from \"ReadingEntries\";\n",
                ""
            ],
            "metadata": {
                "azdata_cell_guid": "58c7938a-0493-44b0-a2e7-a7af3da9f217",
                "language": "sql"
            },
            "outputs": [
                {
                    "output_type": "display_data",
                    "data": {
                        "text/html": "(2 row(s) affected)"
                    },
                    "metadata": {}
                },
                {
                    "output_type": "display_data",
                    "data": {
                        "text/html": "Total execution time: 00:00:00"
                    },
                    "metadata": {}
                },
                {
                    "output_type": "execute_result",
                    "metadata": {},
                    "execution_count": 4,
                    "data": {
                        "application/vnd.dataresource+json": {
                            "schema": {
                                "fields": [
                                    {
                                        "name": "Id"
                                    },
                                    {
                                        "name": "BookId"
                                    },
                                    {
                                        "name": "PagesRead"
                                    },
                                    {
                                        "name": "Date"
                                    }
                                ]
                            },
                            "data": [
                                {
                                    "0": "2",
                                    "1": "5",
                                    "2": "1",
                                    "3": "2022-07-05T11:57:19.447366-04:00"
                                },
                                {
                                    "0": "3",
                                    "1": "5",
                                    "2": "3",
                                    "3": "2022-07-05T13:38:58.781478-04:00"
                                }
                            ]
                        },
                        "text/html": [
                            "<table>",
                            "<tr><th>Id</th><th>BookId</th><th>PagesRead</th><th>Date</th></tr>",
                            "<tr><td>2</td><td>5</td><td>1</td><td>2022-07-05T11:57:19.447366-04:00</td></tr>",
                            "<tr><td>3</td><td>5</td><td>3</td><td>2022-07-05T13:38:58.781478-04:00</td></tr>",
                            "</table>"
                        ]
                    }
                },
                {
                    "output_type": "error",
                    "evalue": "syntax error at or near \"GO\"",
                    "ename": "",
                    "traceback": []
                }
            ],
            "execution_count": 4
        },
        {
            "cell_type": "code",
            "source": [
                "SELECT * from \"Books\";"
            ],
            "metadata": {
                "azdata_cell_guid": "122eadb5-09aa-41f5-8daf-db05cc87f826",
                "language": "sql"
            },
            "outputs": [],
            "execution_count": null
        }
    ]
}