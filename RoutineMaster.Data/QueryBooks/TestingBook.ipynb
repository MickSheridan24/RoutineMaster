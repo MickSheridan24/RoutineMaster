{
    "metadata": {
        "kernelspec": {
            "name": "SQL",
            "display_name": "SQL",
            "language": "sql"
        },
        "language_info": {
            "name": "sql",
            "version": ""
        }
    },
    "nbformat_minor": 2,
    "nbformat": 4,
    "cells": [
        {
            "cell_type": "code",
            "source": [
                "Select * from \"Tags\";\n",
                "\n",
                "DELETE FROM \"Tags\";\n",
                "DELETE FROM \"ExpenseTags\";"
            ],
            "metadata": {
                "azdata_cell_guid": "8d77ad95-d1e0-4049-a44e-2fb6ad198798",
                "language": "sql"
            },
            "outputs": [
                {
                    "output_type": "display_data",
                    "data": {
                        "text/html": "(6 row(s) affected)"
                    },
                    "metadata": {}
                },
                {
                    "output_type": "display_data",
                    "data": {
                        "text/html": "Commands completed successfully"
                    },
                    "metadata": {}
                },
                {
                    "output_type": "display_data",
                    "data": {
                        "text/html": "Commands completed successfully"
                    },
                    "metadata": {}
                },
                {
                    "output_type": "display_data",
                    "data": {
                        "text/html": "Total execution time: 00:00:00.007"
                    },
                    "metadata": {}
                },
                {
                    "output_type": "execute_result",
                    "execution_count": 27,
                    "data": {
                        "application/vnd.dataresource+json": {
                            "schema": {
                                "fields": [
                                    {
                                        "name": "Id"
                                    },
                                    {
                                        "name": "Name"
                                    },
                                    {
                                        "name": "UserId"
                                    },
                                    {
                                        "name": "Created"
                                    }
                                ]
                            },
                            "data": [
                                {
                                    "0": "15",
                                    "1": "test",
                                    "2": "1",
                                    "3": "0001-01-01T00:00:00+00:00"
                                },
                                {
                                    "0": "16",
                                    "1": "test",
                                    "2": "1",
                                    "3": "0001-01-01T00:00:00+00:00"
                                },
                                {
                                    "0": "17",
                                    "1": "test 2 ",
                                    "2": "1",
                                    "3": "0001-01-01T00:00:00+00:00"
                                },
                                {
                                    "0": "18",
                                    "1": "test 2 ",
                                    "2": "1",
                                    "3": "0001-01-01T00:00:00+00:00"
                                },
                                {
                                    "0": "19",
                                    "1": "test 2 ",
                                    "2": "1",
                                    "3": "0001-01-01T00:00:00+00:00"
                                },
                                {
                                    "0": "20",
                                    "1": "test 2 ",
                                    "2": "1",
                                    "3": "0001-01-01T00:00:00+00:00"
                                }
                            ]
                        },
                        "text/html": "<table><tr><th>Id</th><th>Name</th><th>UserId</th><th>Created</th></tr><tr><td>15</td><td>test</td><td>1</td><td>0001-01-01T00:00:00+00:00</td></tr><tr><td>16</td><td>test</td><td>1</td><td>0001-01-01T00:00:00+00:00</td></tr><tr><td>17</td><td>test 2 </td><td>1</td><td>0001-01-01T00:00:00+00:00</td></tr><tr><td>18</td><td>test 2 </td><td>1</td><td>0001-01-01T00:00:00+00:00</td></tr><tr><td>19</td><td>test 2 </td><td>1</td><td>0001-01-01T00:00:00+00:00</td></tr><tr><td>20</td><td>test 2 </td><td>1</td><td>0001-01-01T00:00:00+00:00</td></tr></table>"
                    },
                    "metadata": {}
                }
            ],
            "execution_count": 27
        },
        {
            "cell_type": "markdown",
            "source": [
                ""
            ],
            "metadata": {
                "azdata_cell_guid": "fbc490d0-bf16-42ae-939b-e9f3332726e3"
            }
        },
        {
            "cell_type": "code",
            "source": [
                "select * from \"DailyScores\""
            ],
            "metadata": {
                "azdata_cell_guid": "b47d6d17-3a99-4196-9c99-6dae4b1b27ef",
                "language": "sql"
            },
            "outputs": [
                {
                    "output_type": "display_data",
                    "data": {
                        "text/html": "(1 row(s) affected)"
                    },
                    "metadata": {}
                },
                {
                    "output_type": "display_data",
                    "data": {
                        "text/html": "Total execution time: 00:00:00.001"
                    },
                    "metadata": {}
                },
                {
                    "output_type": "execute_result",
                    "execution_count": 11,
                    "data": {
                        "application/vnd.dataresource+json": {
                            "schema": {
                                "fields": [
                                    {
                                        "name": "Id"
                                    },
                                    {
                                        "name": "ScoreType"
                                    },
                                    {
                                        "name": "UserId"
                                    },
                                    {
                                        "name": "Date"
                                    },
                                    {
                                        "name": "Score"
                                    }
                                ]
                            },
                            "data": [
                                {
                                    "0": "1",
                                    "1": "2",
                                    "2": "1",
                                    "3": "2022-08-12T23:23:44.889468-04:00",
                                    "4": "0.0"
                                }
                            ]
                        },
                        "text/html": "<table><tr><th>Id</th><th>ScoreType</th><th>UserId</th><th>Date</th><th>Score</th></tr><tr><td>1</td><td>2</td><td>1</td><td>2022-08-12T23:23:44.889468-04:00</td><td>0.0</td></tr></table>"
                    },
                    "metadata": {}
                }
            ],
            "execution_count": 11
        },
        {
            "cell_type": "code",
            "source": [
                "select * from \"SavingsAccounts\""
            ],
            "metadata": {
                "azdata_cell_guid": "037f5838-f613-4190-96c1-044811de49f1",
                "language": "sql"
            },
            "outputs": [
                {
                    "output_type": "display_data",
                    "data": {
                        "text/html": "(4 row(s) affected)"
                    },
                    "metadata": {}
                },
                {
                    "output_type": "display_data",
                    "data": {
                        "text/html": "Total execution time: 00:00:00.002"
                    },
                    "metadata": {}
                },
                {
                    "output_type": "execute_result",
                    "metadata": {},
                    "execution_count": 3,
                    "data": {
                        "application/vnd.dataresource+json": {
                            "schema": {
                                "fields": [
                                    {
                                        "name": "Id"
                                    },
                                    {
                                        "name": "Name"
                                    },
                                    {
                                        "name": "Amount"
                                    },
                                    {
                                        "name": "Goal"
                                    },
                                    {
                                        "name": "UserId"
                                    },
                                    {
                                        "name": "Created"
                                    }
                                ]
                            },
                            "data": [
                                {
                                    "0": "6",
                                    "1": "Housing Fund",
                                    "2": "607.13",
                                    "3": "8000.0",
                                    "4": "1",
                                    "5": "0001-01-01T00:00:00+00:00"
                                },
                                {
                                    "0": "9",
                                    "1": "Car Savings",
                                    "2": "178.11",
                                    "3": "200.0",
                                    "4": "1",
                                    "5": "0001-01-01T00:00:00+00:00"
                                },
                                {
                                    "0": "7",
                                    "1": "School Fund",
                                    "2": "80.67",
                                    "3": "4000.0",
                                    "4": "1",
                                    "5": "0001-01-01T00:00:00+00:00"
                                },
                                {
                                    "0": "8",
                                    "1": "Emergency Fund",
                                    "2": "4000.0",
                                    "3": "5000.0",
                                    "4": "1",
                                    "5": "0001-01-01T00:00:00+00:00"
                                }
                            ]
                        },
                        "text/html": [
                            "<table>",
                            "<tr><th>Id</th><th>Name</th><th>Amount</th><th>Goal</th><th>UserId</th><th>Created</th></tr>",
                            "<tr><td>6</td><td>Housing Fund</td><td>607.13</td><td>8000.0</td><td>1</td><td>0001-01-01T00:00:00+00:00</td></tr>",
                            "<tr><td>9</td><td>Car Savings</td><td>178.11</td><td>200.0</td><td>1</td><td>0001-01-01T00:00:00+00:00</td></tr>",
                            "<tr><td>7</td><td>School Fund</td><td>80.67</td><td>4000.0</td><td>1</td><td>0001-01-01T00:00:00+00:00</td></tr>",
                            "<tr><td>8</td><td>Emergency Fund</td><td>4000.0</td><td>5000.0</td><td>1</td><td>0001-01-01T00:00:00+00:00</td></tr>",
                            "</table>"
                        ]
                    }
                }
            ],
            "execution_count": 3
        },
        {
            "cell_type": "code",
            "source": [
                "update \"SavingsAccounts\" set \"Amount\" = 0 where \"Id\" = 9"
            ],
            "metadata": {
                "language": "sql",
                "azdata_cell_guid": "c4e0b28a-ef88-48d0-b9bc-4d910d3a2bcf"
            },
            "outputs": [
                {
                    "output_type": "display_data",
                    "data": {
                        "text/html": "Commands completed successfully"
                    },
                    "metadata": {}
                },
                {
                    "output_type": "display_data",
                    "data": {
                        "text/html": "Total execution time: 00:00:00.006"
                    },
                    "metadata": {}
                }
            ],
            "execution_count": 2
        }
    ]
}